{
 "cells": [
  {
   "cell_type": "code",
   "execution_count": null,
   "id": "initial_id",
   "metadata": {
    "collapsed": true
   },
   "outputs": [],
   "source": [
    "import pandas as pd\n",
    "from sklearn.ensemble import RandomForestRegressor\n",
    "from sklearn.model_selection import train_test_split\n",
    "\n",
    "userProfile_file_path = '../doc/Data Source/userProfile.csv'\n",
    "companyProfile_file_path = '../doc/Data Source/companyProfile.csv'\n",
    "user_profile_df = pd.read_csv(userProfile_file_path)\n",
    "\n",
    "# 读取公司数据\n",
    "company_profile_df = pd.read_csv(companyProfile_file_path)\n"
   ]
  },
  {
   "cell_type": "code",
   "execution_count": null,
   "outputs": [],
   "source": [
    "user_profile_df"
   ],
   "metadata": {
    "collapsed": false
   },
   "id": "d2792dd99a389afe"
  },
  {
   "cell_type": "code",
   "execution_count": null,
   "outputs": [],
   "source": [
    "company_profile_df"
   ],
   "metadata": {
    "collapsed": false
   },
   "id": "42149a667a893d95"
  },
  {
   "cell_type": "code",
   "execution_count": null,
   "outputs": [],
   "source": [
    "# 定义权重\n",
    "# weights = {\n",
    "#     '关注者数': 0.4,\n",
    "#     'Star 数': 0.3,\n",
    "#     'PushEvent': 0.2,\n",
    "#     'PullRequestEvent': 0.1\n",
    "# }\n",
    "# \n",
    "# # 计算加权分数\n",
    "# user_profile_df['加权分数'] = (\n",
    "#     user_profile_df['关注者数'] * weights['关注者数'] +\n",
    "#     user_profile_df['Star 数'] * weights['Star 数'] +\n",
    "#     user_profile_df['PushEvent'] * weights['PushEvent'] +\n",
    "#     user_profile_df['PullRequestEvent'] * weights['PullRequestEvent']\n",
    "# )\n",
    "# user_profile_df"
   ],
   "metadata": {
    "collapsed": false
   },
   "id": "cd0e70fe5f86c012"
  },
  {
   "cell_type": "code",
   "execution_count": null,
   "outputs": [],
   "source": [
    "# # 为公司数据定义权重\n",
    "# company_weights = {\n",
    "#     'Star 总数': 0.5,\n",
    "#     'Fork 总数': 0.3,\n",
    "#     '粉丝数': 0.2\n",
    "# }\n",
    "# \n",
    "# # 计算公司的加权分数\n",
    "# company_profile_df['加权分数'] = (\n",
    "#     company_profile_df['Star 总数'] * company_weights['Star 总数'] +\n",
    "#     company_profile_df['Fork 总数'] * company_weights['Fork 总数'] +\n",
    "#     company_profile_df['粉丝数'] * company_weights['粉丝数']\n",
    "# )\n",
    "# company_profile_df"
   ],
   "metadata": {
    "collapsed": false
   },
   "id": "46d5aa16092645e"
  },
  {
   "cell_type": "code",
   "execution_count": null,
   "outputs": [],
   "source": [
    "data_path = '~/Desktop/Out_419.csv'\n",
    "data = pd.read_csv(data_path)"
   ],
   "metadata": {
    "collapsed": false
   },
   "id": "2cec68efd2a2c0f9"
  },
  {
   "cell_type": "code",
   "execution_count": null,
   "outputs": [],
   "source": [
    "data['初始评分'] = (\n",
    "    0.4 * data['Fork 数'] +\n",
    "    0.3 * data['Star 数']\n",
    "    # 0.2 * data['PushEvent'] +\n",
    "    # 0.1 * data['PullRequestEvent']\n",
    ")\n",
    "\n",
    "# 提取特征和目标变量\n",
    "features = ['Star 数','Fork 数']\n",
    "X = data[features]  # 输入特征\n",
    "y = data['初始评分']  # 目标变量\n",
    "\n",
    "# 处理缺失值（如有）\n",
    "X = X.fillna(0)\n",
    "\n",
    "# 将数据分成训练集和测试集\n",
    "X_train, X_test, y_train, y_test = train_test_split(X, y, test_size=0.2, random_state=42)\n",
    "\n",
    "# 创建和训练随机森林模型\n",
    "model = RandomForestRegressor(n_estimators=100, random_state=42)\n",
    "model.fit(X_train, y_train)\n",
    "\n",
    "# 计算特征重要性\n",
    "feature_importances = model.feature_importances_\n",
    "\n",
    "# 输出特征重要性分数\n",
    "for feature, importance in zip(features, feature_importances):\n",
    "    print(f\"{feature}: {importance:.4f}\")"
   ],
   "metadata": {
    "collapsed": false
   },
   "id": "41af393603c1ecdb"
  },
  {
   "cell_type": "code",
   "execution_count": null,
   "outputs": [],
   "source": [],
   "metadata": {
    "collapsed": false
   },
   "id": "108f035d0869d54b"
  }
 ],
 "metadata": {
  "kernelspec": {
   "display_name": "Python 3",
   "language": "python",
   "name": "python3"
  },
  "language_info": {
   "codemirror_mode": {
    "name": "ipython",
    "version": 2
   },
   "file_extension": ".py",
   "mimetype": "text/x-python",
   "name": "python",
   "nbconvert_exporter": "python",
   "pygments_lexer": "ipython2",
   "version": "2.7.6"
  }
 },
 "nbformat": 4,
 "nbformat_minor": 5
}
